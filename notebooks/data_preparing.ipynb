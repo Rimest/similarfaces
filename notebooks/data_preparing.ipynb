{
 "cells": [
  {
   "cell_type": "code",
   "execution_count": 10,
   "metadata": {},
   "outputs": [],
   "source": [
    "import os, sys\n",
    "import glob\n",
    "import json\n",
    "import pandas as pd\n",
    "\n",
    "from bing_image_downloader.downloader import download\n",
    "\n",
    "from PIL import Image"
   ]
  },
  {
   "cell_type": "markdown",
   "metadata": {},
   "source": [
    "# 1. Data importing"
   ]
  },
  {
   "cell_type": "code",
   "execution_count": 64,
   "metadata": {},
   "outputs": [],
   "source": [
    "with open('../config/actors.txt', 'r') as f:\n",
    "    names = f.readlines()\n",
    "names = [name[:-1] for name in names]\n",
    "\n",
    "SIZE = 256"
   ]
  },
  {
   "cell_type": "markdown",
   "metadata": {},
   "source": [
    "# 2. Actors/actress images downloading"
   ]
  },
  {
   "cell_type": "code",
   "execution_count": null,
   "metadata": {},
   "outputs": [],
   "source": [
    "for name in names:\n",
    "    query = f'face {name}'\n",
    "    dir_download = '../dataset/actors'\n",
    "\n",
    "    download(query,\n",
    "            limit=15,\n",
    "            output_dir=dir_download)\n",
    "    \n",
    "    os.rename('../dataset/actors/' + query, '../dataset/actors/' + name)"
   ]
  },
  {
   "cell_type": "markdown",
   "metadata": {},
   "source": [
    "# 3. Image resize "
   ]
  },
  {
   "cell_type": "code",
   "execution_count": null,
   "metadata": {},
   "outputs": [],
   "source": [
    "for name in names:\n",
    "    files = glob.glob(f'../dataset/actors/{name}/*')\n",
    "    for path in files:\n",
    "        try:\n",
    "            image = Image.open(path)\n",
    "            size = image.size\n",
    "\n",
    "            coef = SIZE / size[0]\n",
    "            resized_image = image.resize(\n",
    "                (int(size[0] * coef), int(size[1] * coef))\n",
    "            )\n",
    "            resized_image = resized_image.convert('RGB')\n",
    "            resized_image.save(path)\n",
    "        except:\n",
    "            os.remove(path)"
   ]
  }
 ],
 "metadata": {
  "kernelspec": {
   "display_name": "Python 3.9.13 ('ml')",
   "language": "python",
   "name": "python3"
  },
  "language_info": {
   "codemirror_mode": {
    "name": "ipython",
    "version": 3
   },
   "file_extension": ".py",
   "mimetype": "text/x-python",
   "name": "python",
   "nbconvert_exporter": "python",
   "pygments_lexer": "ipython3",
   "version": "3.9.13"
  },
  "orig_nbformat": 4,
  "vscode": {
   "interpreter": {
    "hash": "7cd4e22111cf737a60e740a41ad86d22dd321f4de7ba4290e420cec53aff9ef5"
   }
  }
 },
 "nbformat": 4,
 "nbformat_minor": 2
}
